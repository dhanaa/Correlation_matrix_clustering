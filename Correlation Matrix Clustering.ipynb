{
 "cells": [
  {
   "cell_type": "markdown",
   "metadata": {
    "deletable": true,
    "editable": true
   },
   "source": [
    "Correlation Matrix clustering\n",
    "\n",
    "using hierarchical clustering\n",
    "https://www.stat.cmu.edu/~cshalizi/350/lectures/08/lecture-08.pdf\n",
    "algorithm outline:\n",
    "a) each node is a single cluster\n",
    "loop until the hard requirement fails\n",
    "b) pair up nodes as a new cluster with different objective functions"
   ]
  },
  {
   "cell_type": "code",
   "execution_count": 1,
   "metadata": {
    "collapsed": true,
    "deletable": true,
    "editable": true
   },
   "outputs": [],
   "source": [
    "import numpy as np\n",
    "import pandas as pd\n",
    "import sklearn\n",
    "import matplotlib"
   ]
  },
  {
   "cell_type": "markdown",
   "metadata": {
    "deletable": true,
    "editable": true
   },
   "source": [
    "Generate a correlation matrix of size 50*50"
   ]
  },
  {
   "cell_type": "code",
   "execution_count": 24,
   "metadata": {
    "collapsed": false,
    "deletable": true,
    "editable": true
   },
   "outputs": [],
   "source": [
    "def genCorrelation(n):\n",
    "    # generate a square correlation matrix with size n*n\n",
    "    m = 2 * np.random.rand(n,n) - np.ones(n)\n",
    "    for i in xrange(n):\n",
    "        m[i][i] = 1\n",
    "    for i in xrange(n):\n",
    "        for j in xrange(i,n,1):\n",
    "            m[i][j] = m[j][i]\n",
    "    print('The ' + str(n) + '-th order correlation matrix is:')\n",
    "    print(m)\n",
    "    \n",
    "    return m"
   ]
  },
  {
   "cell_type": "markdown",
   "metadata": {
    "deletable": true,
    "editable": true
   },
   "source": [
    "#Basic requirement for clustering:\n",
    "Correlation between any pair of stock in the same cluster must be higher than pair of stocks from different cluster. For example, A and B are from one cluster and C are for another cluster; Corr(A,B) >= Corr(A,C) and Corr(A,B) >= Corr(B,C)"
   ]
  },
  {
   "cell_type": "code",
   "execution_count": 79,
   "metadata": {
    "collapsed": false,
    "deletable": true,
    "editable": true
   },
   "outputs": [
    {
     "name": "stdout",
     "output_type": "stream",
     "text": [
      "The 10-th order correlation matrix is:\n",
      "[[  1.00000000e+00   4.63709787e-01  -4.65073537e-01  -3.74248602e-02\n",
      "    9.74214591e-01   5.51711134e-02   7.32787947e-01   9.72360346e-01\n",
      "    8.97158447e-01  -6.86138765e-04]\n",
      " [  4.63709787e-01   1.00000000e+00   5.23264707e-01  -7.42171910e-01\n",
      "   -6.57928959e-01  -7.26130306e-01   1.33230464e-01  -5.52759560e-01\n",
      "    3.89229796e-01  -5.88148356e-01]\n",
      " [ -4.65073537e-01   5.23264707e-01   1.00000000e+00  -1.10733779e-01\n",
      "    5.74685463e-01   9.63231605e-01  -2.12371552e-01  -3.27213922e-01\n",
      "    6.83475680e-01   9.91262115e-01]\n",
      " [ -3.74248602e-02  -7.42171910e-01  -1.10733779e-01   1.00000000e+00\n",
      "    5.98026922e-01  -3.26732766e-01  -7.81798943e-01   8.78368304e-01\n",
      "   -4.23501509e-02  -6.04187752e-01]\n",
      " [  9.74214591e-01  -6.57928959e-01   5.74685463e-01   5.98026922e-01\n",
      "    1.00000000e+00   1.76772814e-01   3.09591317e-01  -3.81218745e-01\n",
      "   -5.71072393e-01   1.61180098e-01]\n",
      " [  5.51711134e-02  -7.26130306e-01   9.63231605e-01  -3.26732766e-01\n",
      "    1.76772814e-01   1.00000000e+00   5.64358910e-01   2.39609622e-01\n",
      "    4.81983296e-01  -7.67370666e-01]\n",
      " [  7.32787947e-01   1.33230464e-01  -2.12371552e-01  -7.81798943e-01\n",
      "    3.09591317e-01   5.64358910e-01   1.00000000e+00   5.35347651e-01\n",
      "   -2.70861050e-01   7.37046785e-01]\n",
      " [  9.72360346e-01  -5.52759560e-01  -3.27213922e-01   8.78368304e-01\n",
      "   -3.81218745e-01   2.39609622e-01   5.35347651e-01   1.00000000e+00\n",
      "   -1.26801147e-01  -3.54091094e-01]\n",
      " [  8.97158447e-01   3.89229796e-01   6.83475680e-01  -4.23501509e-02\n",
      "   -5.71072393e-01   4.81983296e-01  -2.70861050e-01  -1.26801147e-01\n",
      "    1.00000000e+00   4.05175681e-03]\n",
      " [ -6.86138765e-04  -5.88148356e-01   9.91262115e-01  -6.04187752e-01\n",
      "    1.61180098e-01  -7.67370666e-01   7.37046785e-01  -3.54091094e-01\n",
      "    4.05175681e-03   1.00000000e+00]]\n"
     ]
    }
   ],
   "source": [
    "M = genCorrelation(10)"
   ]
  },
  {
   "cell_type": "code",
   "execution_count": 75,
   "metadata": {
    "collapsed": false,
    "deletable": true,
    "editable": true
   },
   "outputs": [],
   "source": [
    "def clustering(InitMatrix, m, clus):\n",
    "    dim = m.shape[0]\n",
    "    # find the largest 2 correlations in each row\n",
    "    ind = np.zeros([dim,2])\n",
    "    for i,irow in enumerate(m):\n",
    "        ind[i] = np.argpartition(irow, -2)[-2:]\n",
    "        \n",
    "    # find the possible pair of clusters for combination\n",
    "    feasiblePair = []\n",
    "    for i in xrange(dim):\n",
    "        for j in xrange(i+1,dim):\n",
    "            # check which two clusters match\n",
    "            if set(ind[i]) == set(ind[j]):\n",
    "                feasiblePair.append(list(ind[i]))\n",
    "    \n",
    "    # find the possible path along this branch\n",
    "    for ipair in feasiblePair[0:2]:\n",
    "        iclus = clus[:]  # copy clus to iclus by value\n",
    "        nrow = int(np.amin(ipair))   # put the new cluster in this row\n",
    "        _row = int(np.amax(ipair))   # delete this row and corresponding column\n",
    "        \n",
    "        # update the new list for the indices for each cluster\n",
    "        # assume clus = [[1,2,5],[3,4],[5,6,7,8],[9,10]], then combining 1st and 2nd\n",
    "        # we have clus_new = [[1,2,3,4,5],[5,6,7,8],[9,10]]\n",
    "        iclus[nrow] = iclus[nrow] + iclus[_row]\n",
    "        del iclus[_row]\n",
    "        \n",
    "        # construct the new matrix by combining two clusters\n",
    "        nmatrix = np.delete(np.delete(m,_row,0), _row, 1) # get a dim-1 dimensional matrix\n",
    "        print len(iclus)\n",
    "        for i in xrange(dim-1):\n",
    "            if i == nrow:\n",
    "                # compute the minimum correlation\n",
    "                # get the submatrix with indices of elements in the new cluster\n",
    "                _matrix = InitMatrix[np.ix_(iclus[nrow], iclus[nrow])]\n",
    "                # compute the minimum based on the original matrix\n",
    "                nmatrix[i][i] = np.amin(_matrix)\n",
    "            else:\n",
    "                # compute the maximum correlation between clusters\n",
    "                # get the indices of the lements of i cluster\n",
    "                \n",
    "                _r = iclus[nrow] + iclus[i]\n",
    "                _matrix = InitMatrix[np.ix_(_r, _r)]\n",
    "                # compute the maximum based on the original matrix \n",
    "                nmatrix[nrow][i] = np.amax(_matrix)\n",
    "                nmatrix[i][nrow] = nmatrix[nrow][i]\n",
    "        print ipair\n",
    "        print iclus\n",
    "        print nmatrix\n",
    "    "
   ]
  },
  {
   "cell_type": "code",
   "execution_count": 80,
   "metadata": {
    "collapsed": false,
    "deletable": true,
    "editable": true
   },
   "outputs": [
    {
     "name": "stdout",
     "output_type": "stream",
     "text": [
      "look at here\n",
      "10\n",
      "9\n",
      "[4.0, 0.0]\n",
      "[[0, 4], [1], [2], [3], [5], [6], [7], [8], [9]]\n",
      "[[ 0.97421459  1.          1.          1.          1.          1.          1.\n",
      "   1.          1.        ]\n",
      " [ 1.          1.          0.52326471 -0.74217191 -0.72613031  0.13323046\n",
      "  -0.55275956  0.3892298  -0.58814836]\n",
      " [ 1.          0.52326471  1.         -0.11073378  0.9632316  -0.21237155\n",
      "  -0.32721392  0.68347568  0.99126212]\n",
      " [ 1.         -0.74217191 -0.11073378  1.         -0.32673277 -0.78179894\n",
      "   0.8783683  -0.04235015 -0.60418775]\n",
      " [ 1.         -0.72613031  0.9632316  -0.32673277  1.          0.56435891\n",
      "   0.23960962  0.4819833  -0.76737067]\n",
      " [ 1.          0.13323046 -0.21237155 -0.78179894  0.56435891  1.\n",
      "   0.53534765 -0.27086105  0.73704678]\n",
      " [ 1.         -0.55275956 -0.32721392  0.8783683   0.23960962  0.53534765\n",
      "   1.         -0.12680115 -0.35409109]\n",
      " [ 1.          0.3892298   0.68347568 -0.04235015  0.4819833  -0.27086105\n",
      "  -0.12680115  1.          0.00405176]\n",
      " [ 1.         -0.58814836  0.99126212 -0.60418775 -0.76737067  0.73704678\n",
      "  -0.35409109  0.00405176  1.        ]]\n",
      "look at here\n",
      "10\n",
      "9\n",
      "[9.0, 2.0]\n",
      "[[0], [1], [2, 9], [3], [4], [5], [6], [7], [8]]\n",
      "[[ 1.          0.46370979  1.         -0.03742486  0.97421459  0.05517111\n",
      "   0.73278795  0.97236035  0.89715845]\n",
      " [ 0.46370979  1.          1.         -0.74217191 -0.65792896 -0.72613031\n",
      "   0.13323046 -0.55275956  0.3892298 ]\n",
      " [ 1.          1.          0.99126212  1.          1.          1.          1.\n",
      "   1.          1.        ]\n",
      " [-0.03742486 -0.74217191  1.          1.          0.59802692 -0.32673277\n",
      "  -0.78179894  0.8783683  -0.04235015]\n",
      " [ 0.97421459 -0.65792896  1.          0.59802692  1.          0.17677281\n",
      "   0.30959132 -0.38121875 -0.57107239]\n",
      " [ 0.05517111 -0.72613031  1.         -0.32673277  0.17677281  1.\n",
      "   0.56435891  0.23960962  0.4819833 ]\n",
      " [ 0.73278795  0.13323046  1.         -0.78179894  0.30959132  0.56435891\n",
      "   1.          0.53534765 -0.27086105]\n",
      " [ 0.97236035 -0.55275956  1.          0.8783683  -0.38121875  0.23960962\n",
      "   0.53534765  1.         -0.12680115]\n",
      " [ 0.89715845  0.3892298   1.         -0.04235015 -0.57107239  0.4819833\n",
      "  -0.27086105 -0.12680115  1.        ]]\n"
     ]
    }
   ],
   "source": [
    "clus = []\n",
    "for i in xrange(10):\n",
    "    clus.append([i])\n",
    "clustering(M,M,clus)"
   ]
  },
  {
   "cell_type": "code",
   "execution_count": 62,
   "metadata": {
    "collapsed": false
   },
   "outputs": [
    {
     "name": "stdout",
     "output_type": "stream",
     "text": [
      "[[2, 3], [6, 0, 3, 3]]\n"
     ]
    }
   ],
   "source": [
    "aa =[[2,3],[6,0,3,3],[6,7]]\n",
    "print aa[0:2]"
   ]
  },
  {
   "cell_type": "code",
   "execution_count": null,
   "metadata": {
    "collapsed": true,
    "deletable": true,
    "editable": true
   },
   "outputs": [],
   "source": [
    "def clusteringMaxSumCorrelation():\n",
    "    '''\n",
    "    Summation over Correlations between stocks in the same cluster is maximized. \n",
    "    This sum of correlation is sum of all the elements in correlation matrix. I.e. \n",
    "    if you constructed a cluster with 100 stocks. You can calculate 100 x 100 correlation\n",
    "    matrix and sum up all the elements to get \"sum of correlation\". In other word, \n",
    "    stocks in the same cluster must be highly correlated.\n",
    "    '''\n",
    "    pass"
   ]
  },
  {
   "cell_type": "code",
   "execution_count": null,
   "metadata": {
    "collapsed": true,
    "deletable": true,
    "editable": true
   },
   "outputs": [],
   "source": [
    "def clusteringUniformSize():\n",
    "    '''\n",
    "    The number of clusters is not restricted as long as you have more than four \n",
    "    clusters. But standard deviation of the numbers of clusters is to be minimized. \n",
    "    For example, clusters of 100 stocks, 100 stocks, 100 stocks and 200 stocks are \n",
    "    better than those of 300 stocks, 160 stocks, 35 stocks and 5 stocks.\n",
    "    '''\n",
    "    \n",
    "    # each time we merge two clusters, the requirements are\n",
    "    # 1) the basic requirement must be satisfied\n",
    "    # 2) the resulting pattern of merging has the best objective function\n",
    "    \n",
    "    \n",
    "    for i in range(n):\n",
    "        for j in range(n):\n",
    "            # merge cluster i and cluster j\n",
    "            # if resulting a qualified matrix, then compute its objective function\n",
    "            if checkFeasibility(matrix):\n",
    "                calcObjUniformSize()\n",
    "    \n",
    "    pass"
   ]
  },
  {
   "cell_type": "code",
   "execution_count": null,
   "metadata": {
    "collapsed": true,
    "deletable": true,
    "editable": true
   },
   "outputs": [],
   "source": [
    "def clusteringIndependentReturn():\n",
    "    '''\n",
    "    You can calculate the average of returns of stocks in the same cluster. \n",
    "    If you have four clusters, you will have four average returns, from which 4x4 \n",
    "    correlation matrix can be calculated. Summation over Correlation  between average \n",
    "    returns of clusters is minimized. In other word, clusters must not be correlated in \n",
    "    terms of average return\n",
    "    '''\n",
    "    pass"
   ]
  },
  {
   "cell_type": "code",
   "execution_count": 62,
   "metadata": {
    "collapsed": false,
    "deletable": true,
    "editable": true
   },
   "outputs": [
    {
     "name": "stdout",
     "output_type": "stream",
     "text": [
      "set([4, 5])\n",
      "True\n"
     ]
    }
   ],
   "source": [
    "a = np.array([9, 9, 4, 3, 9, 9, 0, 4, 6, 0])\n",
    "ind = np.argpartition(a, -2)[-2:]\n",
    "ind = set(ind)\n",
    "print ind\n",
    "print ind==set([4,5])"
   ]
  }
 ],
 "metadata": {
  "kernelspec": {
   "display_name": "Python 2",
   "language": "python",
   "name": "python2"
  },
  "language_info": {
   "codemirror_mode": {
    "name": "ipython",
    "version": 2
   },
   "file_extension": ".py",
   "mimetype": "text/x-python",
   "name": "python",
   "nbconvert_exporter": "python",
   "pygments_lexer": "ipython2",
   "version": "2.7.12"
  }
 },
 "nbformat": 4,
 "nbformat_minor": 2
}
